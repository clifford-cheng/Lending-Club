{
  "nbformat": 4,
  "nbformat_minor": 0,
  "metadata": {
    "colab": {
      "name": "LendingClub.ipynb",
      "provenance": [],
      "machine_shape": "hm",
      "mount_file_id": "1x8hWcftNsnpPZliOuMGoFSQDEemCFy3C",
      "authorship_tag": "ABX9TyPKzXO2aBRokR3Alvra/aSQ",
      "include_colab_link": true
    },
    "kernelspec": {
      "name": "python3",
      "display_name": "Python 3"
    }
  },
  "cells": [
    {
      "cell_type": "markdown",
      "metadata": {
        "id": "view-in-github",
        "colab_type": "text"
      },
      "source": [
        "<a href=\"https://colab.research.google.com/github/clifford-cheng/Lending-Club/blob/master/LendingClub.ipynb\" target=\"_parent\"><img src=\"https://colab.research.google.com/assets/colab-badge.svg\" alt=\"Open In Colab\"/></a>"
      ]
    },
    {
      "cell_type": "code",
      "metadata": {
        "id": "TrUH23Yeg90l",
        "colab_type": "code",
        "colab": {}
      },
      "source": [
        "import pandas as pd \n",
        "import numpy as np\n",
        "import matplotlib.pyplot as plt \n",
        "import os\n",
        "from tqdm import tqdm\n"
      ],
      "execution_count": 1,
      "outputs": []
    },
    {
      "cell_type": "code",
      "metadata": {
        "id": "y5ASZlDkd4Oq",
        "colab_type": "code",
        "colab": {}
      },
      "source": [
        "def get_file_list(directory):\n",
        "    file_list = []\n",
        "    for filename in sorted(os.listdir(directory)):\n",
        "        if filename.endswith('.csv'):\n",
        "            file_list.append(filename)\n",
        "    return file_list\n",
        "\n",
        "def p2f(x):\n",
        "    return float(x.strip('%'))/100\n",
        "\n",
        "f = lambda x: float(x.strip('%'))/100\n",
        "s = lambda x: int(x[4:])\n",
        "\n",
        "def loan(x):\n",
        "  if x < 10000:\n",
        "    return 1\n",
        "  elif 10000 <= x < 20000:\n",
        "    return 2\n",
        "  elif 20000 <= x < 30000:\n",
        "    return 3\n",
        "  else:\n",
        "    return 4\n",
        "\n",
        "\n",
        "def consol_df(directory):\n",
        "    dataframe = pd.DataFrame(columns = ['id', 'issue_d', 'loan_amnt', 'term', 'int_rate', 'installment', 'grade', 'emp_title', 'emp_length', 'home_ownership',\n",
        "          'annual_inc', 'verification_status', 'loan_status', 'title', 'addr_state', 'dti', 'delinq_2yrs', 'fico_range_low', \n",
        "          'inq_last_6mths', 'pub_rec', 'total_pymnt_inv', 'total_rec_prncp', 'total_rec_int', 'total_rec_late_fee',\n",
        "          'recoveries', 'collection_recovery_fee', 'application_type'])\n",
        "    df_list = get_file_list(directory)\n",
        "    for i in tqdm(df_list):    \n",
        "        df = pd.read_csv('/content/drive/My Drive/Galvanize/Capstones/capstone_3/data/'+ i, header=1, engine='python', \n",
        "                            dtype={'id': int, 'desc': str, 'next_pymnt_d': str, 'verification_status_joint':str},\n",
        "                            skipfooter=4)\n",
        "        df = df[['id', 'issue_d', 'loan_amnt', 'term', 'int_rate', 'installment', 'grade', 'emp_title', 'emp_length', 'home_ownership',\n",
        "          'annual_inc', 'verification_status', 'loan_status', 'title', 'addr_state', 'dti', 'delinq_2yrs', 'fico_range_low', \n",
        "          'inq_last_6mths', 'pub_rec', 'total_pymnt_inv', 'total_rec_prncp', 'total_rec_int', 'total_rec_late_fee',\n",
        "          'recoveries', 'collection_recovery_fee', 'application_type']]\n",
        "        df = df[df['loan_status'].isin(('Charged Off', 'Fully Paid'))]\n",
        "        df = df[df['application_type']=='Individual']\n",
        "\n",
        "        df['term'] = df['term'].replace(' ', '')\n",
        "        df['int_rate'] = df['int_rate'].map(f)\n",
        "        df['issue_d'] = df['issue_d'].map(s)\n",
        "        df['inq_last_6mths'] = df['inq_last_6mths'].fillna(0).astype(int)\n",
        "        df['loan_status'] = df['loan_status'].map({'Fully Paid': 1, 'Charged Off': 0})\n",
        "        df['verification_status'] = df['verification_status'].map({'Verified': 1, 'Source Verified':1, 'Not Verified': 0})\n",
        "        df = df[df['home_ownership'].isin(['MORTGAGE', 'OWN', 'RENT'])]\n",
        "        df['loan'] = df['loan_amnt'].map(loan)\n",
        "        df['emp_length'] = df['emp_length'].replace({'3 years': 3, '10+ years': 10, '4 years': 4, '2 years': 2, '5 years': 5, '6 years': 6,\n",
        "       '1 year': 1, '7 years': 7, '< 1 year':1, '9 years':9, '8 years':8, None: 0})\n",
        "        dataframe = pd.concat([dataframe, df], axis = 0)\n",
        "        df = pd.get_dummies(df, columns=['home_ownership', 'term', 'addr_state'], drop_first=True)\n",
        "\n",
        "        dataframe = dataframe.reset_index(drop=True)\n",
        "    return dataframe"
      ],
      "execution_count": 2,
      "outputs": []
    },
    {
      "cell_type": "code",
      "metadata": {
        "id": "6ZyGt9J7f7Pn",
        "colab_type": "code",
        "colab": {
          "base_uri": "https://localhost:8080/",
          "height": 34
        },
        "outputId": "2ff371da-c892-4db7-dd6b-760ba4670715"
      },
      "source": [
        "df = consol_df(\"/content/drive/My Drive/Galvanize/Capstones/capstone_3/data\")\n"
      ],
      "execution_count": null,
      "outputs": [
        {
          "output_type": "stream",
          "text": [
            " 38%|███▊      | 6/16 [02:08<03:20, 20.01s/it]"
          ],
          "name": "stderr"
        }
      ]
    },
    {
      "cell_type": "code",
      "metadata": {
        "id": "myPfXUTtp5pn",
        "colab_type": "code",
        "colab": {}
      },
      "source": [
        "df.to_csv('/content/drive/My Drive/Galvanize/Capstones/capstone_3/data/lending_club_data.csv', index=False)"
      ],
      "execution_count": null,
      "outputs": []
    },
    {
      "cell_type": "code",
      "metadata": {
        "id": "R0S3IBdmPTXM",
        "colab_type": "code",
        "colab": {}
      },
      "source": [
        "df = pd.read_csv('/content/drive/My Drive/Galvanize/Capstones/capstone_3/data/lending_club_data.csv')"
      ],
      "execution_count": null,
      "outputs": []
    },
    {
      "cell_type": "code",
      "metadata": {
        "id": "Nom6sgq69oKl",
        "colab_type": "code",
        "colab": {}
      },
      "source": [
        "\n",
        "df['loan_status'].corr(df['dti'])\n"
      ],
      "execution_count": null,
      "outputs": []
    },
    {
      "cell_type": "code",
      "metadata": {
        "id": "44chXDJiWtkq",
        "colab_type": "code",
        "colab": {}
      },
      "source": [
        "df['loan_status'].corr(df['fico_range_low'])\n"
      ],
      "execution_count": null,
      "outputs": []
    },
    {
      "cell_type": "code",
      "metadata": {
        "id": "aBj_KNTmW8DF",
        "colab_type": "code",
        "colab": {}
      },
      "source": [
        "df['loan_status'].corr(df['verification_status'])\n"
      ],
      "execution_count": null,
      "outputs": []
    },
    {
      "cell_type": "code",
      "metadata": {
        "id": "jt6ryaa6XAs4",
        "colab_type": "code",
        "colab": {}
      },
      "source": [
        "df['loan_status'].corr(df['inq_last_6mths'])"
      ],
      "execution_count": null,
      "outputs": []
    },
    {
      "cell_type": "code",
      "metadata": {
        "id": "7hpmp1s-Wumn",
        "colab_type": "code",
        "colab": {}
      },
      "source": [
        "df['loan_status'].corr(df['emp_length'])"
      ],
      "execution_count": null,
      "outputs": []
    },
    {
      "cell_type": "code",
      "metadata": {
        "id": "pF-c59pqbnlo",
        "colab_type": "code",
        "colab": {}
      },
      "source": [
        "df['loan_status'].corr(df['annual_inc'])"
      ],
      "execution_count": null,
      "outputs": []
    },
    {
      "cell_type": "code",
      "metadata": {
        "id": "a2TrxnwodCcN",
        "colab_type": "code",
        "colab": {}
      },
      "source": [
        "df['loan_status'].corr(df['home_ownership_MORTGAGE'])"
      ],
      "execution_count": null,
      "outputs": []
    },
    {
      "cell_type": "code",
      "metadata": {
        "id": "2vNf4vrachjO",
        "colab_type": "code",
        "colab": {}
      },
      "source": [
        "df['loan_status'].corr(df['home_ownership_OWN'])"
      ],
      "execution_count": null,
      "outputs": []
    },
    {
      "cell_type": "code",
      "metadata": {
        "id": "GHKtyKOqciTH",
        "colab_type": "code",
        "colab": {}
      },
      "source": [
        "df['loan_status'].corr(df['home_ownership_RENT'])"
      ],
      "execution_count": null,
      "outputs": []
    },
    {
      "cell_type": "code",
      "metadata": {
        "id": "aE1gA1WEboFm",
        "colab_type": "code",
        "colab": {}
      },
      "source": [
        "df = pd.get_dummies(df, columns=['home_ownership'], drop_first=True)\n"
      ],
      "execution_count": null,
      "outputs": []
    },
    {
      "cell_type": "code",
      "metadata": {
        "id": "SJwg-GkKdmZG",
        "colab_type": "code",
        "colab": {}
      },
      "source": [
        "df['loan_status'].corr(df['application_type_Individual'])"
      ],
      "execution_count": null,
      "outputs": []
    },
    {
      "cell_type": "code",
      "metadata": {
        "id": "x9ZKchY7dm5R",
        "colab_type": "code",
        "colab": {}
      },
      "source": [
        "df['loan_status'].corr(df['application_type_Joint App'])"
      ],
      "execution_count": null,
      "outputs": []
    },
    {
      "cell_type": "code",
      "metadata": {
        "id": "CPCxQWcfbR7V",
        "colab_type": "code",
        "colab": {}
      },
      "source": [
        "df"
      ],
      "execution_count": null,
      "outputs": []
    },
    {
      "cell_type": "code",
      "metadata": {
        "id": "IP3VgXbQjh4O",
        "colab_type": "code",
        "colab": {}
      },
      "source": [
        "plot = df.groupby('grade').count().plot.pie(y='id', autopct='%1.1f%%', figsize=(8,8))"
      ],
      "execution_count": null,
      "outputs": []
    },
    {
      "cell_type": "code",
      "metadata": {
        "id": "PjtfHYGYj1nn",
        "colab_type": "code",
        "colab": {}
      },
      "source": [
        "# Success rate of loans by grade.\n",
        "df.groupby('grade')['loan_status'].sum()/df.groupby('grade')['loan_status'].count() "
      ],
      "execution_count": null,
      "outputs": []
    },
    {
      "cell_type": "code",
      "metadata": {
        "id": "ZR54vWPstAgS",
        "colab_type": "code",
        "colab": {}
      },
      "source": [
        "# Interest rate of loans by grade.\n",
        "df.groupby('grade')['int_rate'].sum()/df.groupby('grade')['int_rate'].count()"
      ],
      "execution_count": null,
      "outputs": []
    },
    {
      "cell_type": "code",
      "metadata": {
        "id": "uP9wYGXy2LIb",
        "colab_type": "code",
        "colab": {}
      },
      "source": [
        "# Average payout of loans by grade.\n",
        "df.groupby('grade')['loan_status'].sum()/df.groupby('grade')['loan_status'].count() * df.groupby('grade')['int_rate'].sum()/df.groupby('grade')['int_rate'].count()"
      ],
      "execution_count": null,
      "outputs": []
    },
    {
      "cell_type": "code",
      "metadata": {
        "id": "3h2N8ow32iMv",
        "colab_type": "code",
        "colab": {}
      },
      "source": [
        "# Holy Shit. This means that no matter the grade, all people who can't pay it off do so at the same rate.\n",
        "# This can be that either frauds are the same or that employment issues/cashflow issues are the same. \n",
        "temp_df = df[df['loan_status']==0]\n",
        "temp_df.groupby('grade')['total_pymnt_inv'].sum()/temp_df.groupby('grade')['loan_amnt'].sum()"
      ],
      "execution_count": null,
      "outputs": []
    },
    {
      "cell_type": "code",
      "metadata": {
        "id": "Bd6KYCSI31U8",
        "colab_type": "code",
        "colab": {}
      },
      "source": [
        "df.groupby(['grade', 'term', 'home_ownership'])['total_pymnt_inv'].sum()/df.groupby(['grade', 'term', 'home_ownership'])['loan_amnt'].sum()"
      ],
      "execution_count": null,
      "outputs": []
    },
    {
      "cell_type": "code",
      "metadata": {
        "id": "gzr6nN906BaC",
        "colab_type": "code",
        "colab": {}
      },
      "source": [
        "df.groupby(['grade', 'term'])['total_pymnt_inv'].sum()/df.groupby(['grade', 'term'])['loan_amnt'].sum()"
      ],
      "execution_count": null,
      "outputs": []
    },
    {
      "cell_type": "code",
      "metadata": {
        "id": "DBoFXwux8uai",
        "colab_type": "code",
        "colab": {}
      },
      "source": [
        "df.groupby(['grade', 'home_ownership'])['total_pymnt_inv'].sum()/df.groupby(['grade', 'home_ownership'])['loan_amnt'].sum()"
      ],
      "execution_count": null,
      "outputs": []
    },
    {
      "cell_type": "code",
      "metadata": {
        "id": "add9PgGUBRAB",
        "colab_type": "code",
        "colab": {}
      },
      "source": [
        "# pd.set_option('display.max_rows', 500)\n",
        "# pd.set_option('display.max_columns', 500)\n",
        "# pd.set_option('display.width', 1000)\n",
        "\n",
        "\n",
        "\n",
        "df.groupby(['grade', 'loan'])['total_pymnt_inv'].sum()/df.groupby(['grade', 'loan'])['loan_amnt'].sum()"
      ],
      "execution_count": null,
      "outputs": []
    },
    {
      "cell_type": "code",
      "metadata": {
        "id": "BjN0dHuICvsl",
        "colab_type": "code",
        "colab": {}
      },
      "source": [
        ""
      ],
      "execution_count": null,
      "outputs": []
    },
    {
      "cell_type": "code",
      "metadata": {
        "id": "G9FQ3amOcgI_",
        "colab_type": "code",
        "colab": {}
      },
      "source": [
        ""
      ],
      "execution_count": null,
      "outputs": []
    }
  ]
}